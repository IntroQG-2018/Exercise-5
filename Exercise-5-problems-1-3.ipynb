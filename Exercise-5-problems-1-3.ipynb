{
 "cells": [
  {
   "cell_type": "markdown",
   "metadata": {
    "deletable": false,
    "editable": false,
    "nbgrader": {
     "checksum": "fe0719a957c1831c6dd3d2a0408e9599",
     "grade": false,
     "grade_id": "cell-4749c41a0b16a709",
     "locked": true,
     "schema_version": 1,
     "solution": false
    }
   },
   "source": [
    "# Exercise 5: Viscous flow of ice\n",
    "\n",
    "As we've seen previously, most landforms on Earth are sculpted by the flow of fluids across the landscape.\n",
    "Erosion by glaciers can significantly change the Earth's surface, moving vast quantities of material from high elevations to lower elevations.\n",
    "Glacial landscapes are unique and clearly reflect erosion by processes that differ greatly from those found in fluvial systems.\n",
    "To understand how material is moved within glacial systems, it is important to first understand the dominant controls on glacier velocities.\n",
    "\n",
    "For each problem you need to modify the given notebook, and then upload your files to GitHub.\n",
    "The answers to the questions in this week's exercise should be given by modifying the document in places where you are asked.\n",
    "Don't forget to include clear comments that explain what happens in each section of your code cells.\n",
    "\n",
    "- **Exercise 5 is due by the start of class on on 3.12.**\n",
    "- Don't forget to check out [the hints for this week's exercise](https://introqg.github.io/qg/lessons/L5/exercise-5.html) if you're having trouble.\n",
    "- Scores on this exercise are out of 20 points.\n",
    "\n",
    "This tutorial is based on a MATLAB exercise from [Prof. Todd Ehlers (University of Tübingen, Germany)](http://www.geo.uni-tuebingen.de/?id=2183)."
   ]
  },
  {
   "cell_type": "markdown",
   "metadata": {
    "deletable": false,
    "editable": false,
    "nbgrader": {
     "checksum": "eb8c9be5571b88ce6861cc6f542d7a43",
     "grade": false,
     "grade_id": "cell-005b6534a2f43b1b",
     "locked": true,
     "schema_version": 1,
     "solution": false
    }
   },
   "source": [
    "# Problem 1 - Ice flow in open channels (6 points)\n",
    "\n",
    "The goal of this problem is to calculate horizontal velocity profiles across a glacier for Newtonian and non-Newtonian fluid flow resulting from a pressure gradient.\n",
    "\n",
    "## Part 1: Background and getting started (0 points)\n",
    "\n",
    "First read through the [background and theory](https://introqg.github.io/qg/lessons/L5/exercise-5-theory.html#problem-1) before proceeding with this problem.\n",
    "The other parts of this problem will refer to items described in this text.\n",
    "\n",
    "You should also run the two Python cells below to configuring plotting for this exercise and load the modules we will be using."
   ]
  },
  {
   "cell_type": "code",
   "execution_count": null,
   "metadata": {
    "deletable": false,
    "editable": false,
    "nbgrader": {
     "checksum": "a4f090ac72faeb7a65d5d9b37506601a",
     "grade": false,
     "grade_id": "cell-4ec015c5dbcdef4a",
     "locked": true,
     "schema_version": 1,
     "solution": false
    }
   },
   "outputs": [],
   "source": [
    "# Enable inline plotting\n",
    "%matplotlib inline"
   ]
  },
  {
   "cell_type": "code",
   "execution_count": null,
   "metadata": {
    "deletable": false,
    "editable": false,
    "nbgrader": {
     "checksum": "a71104968431de4f9093c091c9f6f39c",
     "grade": false,
     "grade_id": "cell-8237286711a6c7fa",
     "locked": true,
     "schema_version": 1,
     "solution": false
    }
   },
   "outputs": [],
   "source": [
    "# Import NumPy, Matplotlib and the Matplotlib animation modules\n",
    "import numpy as np\n",
    "import matplotlib.pyplot as plt"
   ]
  },
  {
   "cell_type": "markdown",
   "metadata": {
    "deletable": false,
    "editable": false,
    "nbgrader": {
     "checksum": "20feab0a7fdd0fcee82875f7a4453143",
     "grade": false,
     "grade_id": "cell-bbdc0449c0ec3e41",
     "locked": true,
     "schema_version": 1,
     "solution": false
    }
   },
   "source": [
    "## Part 2: An ice flow velocity function (1 point)\n",
    "\n",
    "Your first coding task in this exercise is to create a function called `planform_velocity` that calculates the non-dimensional velocity $u/\\bar{u}$ of a fluid as a function of non-dimensional distance $y/h$ across the channel of width $h$ using the equation below (Equation 12 from the the [background and theory](https://introqg.github.io/qg/lessons/L5/exercise-5-theory.html#problem-1))\n",
    "\n",
    "\\begin{equation}\n",
    "  \\frac{u}{\\bar{u}} = \\left( \\frac{n + 2}{n + 1} \\right) \\left[ 1 - \\left( \\frac{2 y}{h} \\right)^{n + 1} \\right]\n",
    "\\end{equation}\n",
    "\n",
    "where $n$ is the power-law exponent.\n",
    "Assume the flow is symmetrical about *y* = 0 and the velocity is zero at the boundaries of the channel, which is the way things were presented in the [background and theory](https://introqg.github.io/qg/lessons/L5/exercise-5-theory.html#problem-1) for this problem.\n",
    "\n",
    "For this part you should:\n",
    "\n",
    "- Create a function called `planform_velocity` that calculates the non-dimensional velocity of ice flowing in a channel using the equation above.\n",
    "    - You function should take three parameters:\n",
    "        - The power-law exponent `n`\n",
    "        - The channel width array `y`\n",
    "        - The channel width `h`\n",
    "    - **NOTE**: The flow is symmetric about $y = 0$ and for negative $y$ values the equation does not work properly. You can solve one half of the flow ($y \\ge 0$) and use symmetry to plot the other half of the flow."
   ]
  },
  {
   "cell_type": "code",
   "execution_count": null,
   "metadata": {
    "deletable": false,
    "nbgrader": {
     "checksum": "0ff92c1b6c7dca0ba787dd97d3415d18",
     "grade": false,
     "grade_id": "planform_velocity",
     "locked": false,
     "schema_version": 1,
     "solution": true
    }
   },
   "outputs": [],
   "source": [
    "def planform_velocity(n, y, h):\n",
    "    \"\"\"Calculate non-dimensional planform (map view) ice velocity.\n",
    "    \n",
    "    Keyword arguments:\n",
    "    n -- viscous flow power-law expoenent\n",
    "    y -- channel width array, should range from -h/2 to h/2 (units: m)\n",
    "    h -- arbitrary channel width (units: m)\n",
    "    \"\"\"\n",
    "# YOUR CODE HERE\n",
    "raise NotImplementedError()"
   ]
  },
  {
   "cell_type": "code",
   "execution_count": null,
   "metadata": {
    "deletable": false,
    "editable": false,
    "nbgrader": {
     "checksum": "94d324a73a915a6d3705a11f93e264b2",
     "grade": true,
     "grade_id": "planform_velocity_tests",
     "locked": true,
     "points": 1,
     "schema_version": 1,
     "solution": false
    }
   },
   "outputs": [],
   "source": [
    "velocity_test = planform_velocity(4, np.array([-0.2]), 1)\n",
    "print('The non-dimensional velocity at y = -0.2 for n=4 should be 1.18771. My velocity is {0:.5f}.'.format(velocity_test[0]))"
   ]
  },
  {
   "cell_type": "markdown",
   "metadata": {
    "deletable": false,
    "editable": false,
    "nbgrader": {
     "checksum": "6138f959a8686684d96d2c012d42e4bc",
     "grade": false,
     "grade_id": "cell-c282d5de6ed70ea6",
     "locked": true,
     "schema_version": 1,
     "solution": false
    }
   },
   "source": [
    "## Part 3: Calculating ice flow velocities (1 point)\n",
    "\n",
    "With your new ice flow velocity function your next task is to calculate some ice flow velocities for a range of power-law exponents.\n",
    "\n",
    "For this part you should:\n",
    "\n",
    "- Use your `planform_velocity` function to calculate the non-dimensional ice flow velocities for a Newtonian fluid and for non-Newtonian fluids with power-law exponents of $n$ = 2, 3, 4, and 5.\n",
    "    - Because we are calculating a non-dimensional velocity you can use any value of channel width `h` that you like, but recall that the flow is symmetric about $y = 0$.\n",
    "    - Your array `y` should have a length of 201.\n",
    "- Store the output from each use of the `planform_velocity` function for each value of $n$ in one Python list called `nd_velocities`\n",
    "    - There are several ways you can do this.\n",
    "    One option would be to assign the output from the `planform_velocity` function for each velocity to different variables with names of your choosing (e.g., `velocity_1`, `velocity_2`, ...), and then put those values into a Python list."
   ]
  },
  {
   "cell_type": "code",
   "execution_count": null,
   "metadata": {
    "deletable": false,
    "nbgrader": {
     "checksum": "39c848f7aeeaaa443b32b40a7ae67864",
     "grade": false,
     "grade_id": "velocities",
     "locked": false,
     "schema_version": 1,
     "solution": true
    }
   },
   "outputs": [],
   "source": [
    "# YOUR CODE HERE\n",
    "raise NotImplementedError()"
   ]
  },
  {
   "cell_type": "code",
   "execution_count": null,
   "metadata": {
    "deletable": false,
    "editable": false,
    "nbgrader": {
     "checksum": "ecc0dbf2f89e5edb5d2afc44edf59cb3",
     "grade": true,
     "grade_id": "velocities_tests",
     "locked": true,
     "points": 1,
     "schema_version": 1,
     "solution": false
    }
   },
   "outputs": [],
   "source": [
    "print('The length of nd_velocities should be 5. My nd_velocities length is {0}.'.format(len(nd_velocities)))"
   ]
  },
  {
   "cell_type": "markdown",
   "metadata": {
    "deletable": false,
    "editable": false,
    "nbgrader": {
     "checksum": "ebe98f8bbd5d6e4edc90702e03eaa54a",
     "grade": false,
     "grade_id": "cell-7dec4f001f9a623c",
     "locked": true,
     "schema_version": 1,
     "solution": false
    }
   },
   "source": [
    "## Part 4: Plotting your results (3 points)\n",
    "\n",
    "Next you can create a plot of the velocity calculations you've done.\n",
    "\n",
    "For this part you should:\n",
    "\n",
    "- Create one plot of the non-dimensional velocity of all of the fluids as a function of non-dimensional distance.\n",
    "    - Be sure to label your axes and add a title.\n",
    "    - Also include text labels beside each velocity profile listing the power-law exponent or use a line legend.\n",
    "- Include a figure caption in the Markdown cell beneath the plot."
   ]
  },
  {
   "cell_type": "code",
   "execution_count": null,
   "metadata": {
    "deletable": false,
    "nbgrader": {
     "checksum": "2863fb936166f40e486b7d84159acbe3",
     "grade": true,
     "grade_id": "cell-c169b72da3926ed3",
     "locked": false,
     "points": 2,
     "schema_version": 1,
     "solution": true
    }
   },
   "outputs": [],
   "source": [
    "# YOUR CODE HERE\n",
    "raise NotImplementedError()"
   ]
  },
  {
   "cell_type": "markdown",
   "metadata": {
    "deletable": false,
    "nbgrader": {
     "checksum": "05bd0140451e3ffa512fc8ced70d0252",
     "grade": true,
     "grade_id": "cell-a7a657a36d2210cd",
     "locked": false,
     "points": 1,
     "schema_version": 1,
     "solution": true
    }
   },
   "source": [
    "YOUR ANSWER HERE"
   ]
  },
  {
   "cell_type": "markdown",
   "metadata": {
    "deletable": false,
    "editable": false,
    "nbgrader": {
     "checksum": "9a5fa6b62d5e3d1fd82b4dc2e20d1b8d",
     "grade": false,
     "grade_id": "cell-d2dd8f3acb9ae992",
     "locked": true,
     "schema_version": 1,
     "solution": false
    }
   },
   "source": [
    "## Part 5: Questions for Problem 1 (1 point)\n",
    "\n",
    "1. Looking at your plot, how sensitive is the velocity to the power-law exponent?\n",
    "2. What is the maximum percent difference in velocity between n = 2 and n = 4?"
   ]
  },
  {
   "cell_type": "markdown",
   "metadata": {
    "deletable": false,
    "nbgrader": {
     "checksum": "59778df8e09e01face41795aa3b828b5",
     "grade": true,
     "grade_id": "problem_1_questions",
     "locked": false,
     "points": 1,
     "schema_version": 1,
     "solution": true
    }
   },
   "source": [
    "YOUR ANSWER HERE"
   ]
  },
  {
   "cell_type": "markdown",
   "metadata": {
    "deletable": false,
    "editable": false,
    "nbgrader": {
     "checksum": "46be72f7be17721ab020c230378f04d6",
     "grade": false,
     "grade_id": "cell-24229975a5958198",
     "locked": true,
     "schema_version": 1,
     "solution": false
    }
   },
   "source": [
    "# Problem 2: Ice velocities in the Saskatchewan glacier (7 points)\n",
    "\n",
    "The [Saskatchewan glacier near Banff in Alberta, Canada](https://goo.gl/maps/R9S48J4KYPr) (Figure 1) is 1400 m wide and part of a large ice field known as the Columbia Icefield.\n",
    "\n",
    "![Saskatchewan glacier](https://upload.wikimedia.org/wikipedia/commons/a/a5/Saskatchewan_Glacier.jpg)<br/>\n",
    "*Figure 1. Saskatchewan glacier.*"
   ]
  },
  {
   "cell_type": "markdown",
   "metadata": {
    "deletable": false,
    "editable": false,
    "nbgrader": {
     "checksum": "568d8ce889a4101e12fecbf3ea930f2a",
     "grade": false,
     "grade_id": "cell-84071d09adede361",
     "locked": true,
     "schema_version": 1,
     "solution": false
    }
   },
   "source": [
    "## Part 1: A pressure gradient function?!? (1 point)\n",
    "\n",
    "In contrast to the non-dimensional velocity calculations done in Problem 1, we are now going to focus on calculating dimensional velocities to compare to observed ice velocities in the Saskatchewan glacier.\n",
    "We can calculate the dimensional ice velocity using Equation 10 from the [background and theory](https://introqg.github.io/qg/lessons/L5/exercise-5-theory.html#problem-1)), which is also shown below\n",
    "\n",
    "\\begin{equation}\n",
    "  u(y) = \\frac{a}{n + 1} \\left( \\frac{p_{1} - p_{0}}{L} \\right)^{n} \\left[ \\left( \\frac{h}{2} \\right)^{n + 1} - y^{n + 1} \\right]\n",
    "\\end{equation}\n",
    "\n",
    "where $a$ is a function of the viscosity and temperature (we will ignore temperature for now), $n$ is the power-law exponent, $\\frac{p_{1} - p_{0}}{L}$ is the pressure gradient in the channel, $h$ is the channel width, and $y$ is array for distance from the center of the channel.\n",
    "The value for the pressure gradient $\\frac{p_{1} - p_{0}}{L}$ is not known, but we can create a function to estimate its value.\n",
    "\n",
    "For this part you should:\n",
    "\n",
    "- Create a function called `pressure_gradient` that calculates the value of $\\left(\\frac{p_{1} - p_{0}}{L}\\right)^{n}$ for a given value of the power-law exponent `n`.\n",
    "    - You can solve for $\\left(\\frac{p_{1} - p_{0}}{L}\\right)^{n}$ by rearranging Equation 10 (see above) to solve for $\\left(\\frac{p_{1} - p_{0}}{L}\\right)^{n}$ and using the condition that the maximum flow velocity $u = 2.41 \\times 10^{-6}$ m/s occurs at $y = 0$ (see Table 1 in Part 4).\n",
    "    - Assume $a = 5 \\times 10^{-24}$ Pa<sup>-3</sup> s<sup>-1</sup> and $h = 1400$ m.\n",
    "    - Your function parameters should include\n",
    "        - The power-law exponent `n`\n",
    "        - The channel width `h`\n",
    "        - The viscosity/temperature constant `a`\n",
    "        - The channel velocity at y = 0 `u_max`"
   ]
  },
  {
   "cell_type": "code",
   "execution_count": null,
   "metadata": {
    "deletable": false,
    "nbgrader": {
     "checksum": "f8b8a69d91eb5cf082f152488ac13239",
     "grade": false,
     "grade_id": "pressure_gradient",
     "locked": false,
     "schema_version": 1,
     "solution": true
    }
   },
   "outputs": [],
   "source": [
    "def pressure_gradient(n, h=1400.0, a=5.0e-24, u_max=2.41e-6):\n",
    "    \"\"\"Calculate ice channel pressure gradient.\n",
    "    \n",
    "    Keyword arguments:\n",
    "    n -- viscous flow power-law expoenent\n",
    "    h -- channel width (units: m; default: 1400.0)\n",
    "    a -- viscosity/temperature constant (units: Pa^-3 s^-1; default: 5.0e-24)\n",
    "    u_max -- Approximate channel velocity at y = 0 (units: m/s; default: 2.41e-6)\n",
    "    \"\"\"\n",
    "# YOUR CODE HERE\n",
    "raise NotImplementedError()"
   ]
  },
  {
   "cell_type": "code",
   "execution_count": null,
   "metadata": {
    "deletable": false,
    "editable": false,
    "nbgrader": {
     "checksum": "479948f05c9d56135f3507cf8f2f95b9",
     "grade": true,
     "grade_id": "pressure_gradient_tests",
     "locked": true,
     "points": 1,
     "schema_version": 1,
     "solution": false
    }
   },
   "outputs": [],
   "source": [
    "print('The pressure gradient for n=3 should be 8029987.50521. My pressure gradient value is {0:.5f}'.format(pressure_gradient(3)))"
   ]
  },
  {
   "cell_type": "markdown",
   "metadata": {
    "deletable": false,
    "editable": false,
    "nbgrader": {
     "checksum": "6089f557781dcdefd3d0f81d58f9bda5",
     "grade": false,
     "grade_id": "cell-22aef2bdb4215115",
     "locked": true,
     "schema_version": 1,
     "solution": false
    }
   },
   "source": [
    "## Part 2: An ice flow velocity function (1 point)\n",
    "\n",
    "Your next task is to create a function to calculate the dimensional velocity (Equation 10) for ice flowing in a channel.\n",
    "\n",
    "For this part you should:\n",
    "\n",
    "- Create a function called `ice_velocity` that calculates the velocity of ice flowing in a channel using Equation 10 from the [background and theory](https://introqg.github.io/qg/lessons/L5/exercise-5-theory.html#problem-1), which was shown in the previous part.\n",
    "    - Your function should use the `pressure_gradient` function created in the previous part.\n",
    "    - As in the previous part you should assume $a = 5 \\times 10^{-24}$ Pa<sup>-3</sup> s<sup>-1</sup>, $h = 1400$ m, and that the flow is symmetric about $y = 0$.\n",
    "    - Your function parameters should include\n",
    "        - The power-law exponent `n`\n",
    "        - The channel width array `y`\n",
    "        - The channel width `h`\n",
    "        - The viscosity/temperature constant `a`\n",
    "        - The channel velocity at y = 0 `u_max`"
   ]
  },
  {
   "cell_type": "code",
   "execution_count": null,
   "metadata": {
    "deletable": false,
    "nbgrader": {
     "checksum": "eeb3e7c7892531d18e3c068fa6e1982f",
     "grade": false,
     "grade_id": "ice_velocity",
     "locked": false,
     "schema_version": 1,
     "solution": true
    }
   },
   "outputs": [],
   "source": [
    "def ice_velocity(n, y, h=1400.0, a=5.0e-24, u_max=2.41e-6):\n",
    "    \"\"\"Calculate ice channel planform velocity.\n",
    "    \n",
    "    Keyword arguments:\n",
    "    n -- viscous flow power-law expoenent\n",
    "    y -- array of distances from the channel center (units: m)\n",
    "    h -- arbitrary channel width (units: m; default: 1400.0)\n",
    "    a -- viscosity/temperature constant (units: Pa^-3 s^-1; default: 5.0e-24)\n",
    "    u_max -- Approximate channel velocity at y = 0 (units: m/s; default: 2.41e-6)\n",
    "    \"\"\"\n",
    "# YOUR CODE HERE\n",
    "raise NotImplementedError()"
   ]
  },
  {
   "cell_type": "code",
   "execution_count": null,
   "metadata": {
    "deletable": false,
    "editable": false,
    "nbgrader": {
     "checksum": "4e2564c05cb3495fc779ed125382b8bb",
     "grade": true,
     "grade_id": "ice_velocity_tests",
     "locked": true,
     "points": 1,
     "schema_version": 1,
     "solution": false
    }
   },
   "outputs": [],
   "source": [
    "velocity_test = ice_velocity(2, np.array([-400]))\n",
    "print('The ice velocity at y = -400 m for n = 2 should be 1.96032e-06 m/s. My ice velocity value is {0:.5e}'.format(velocity_test[0]))"
   ]
  },
  {
   "cell_type": "markdown",
   "metadata": {
    "deletable": false,
    "editable": false,
    "nbgrader": {
     "checksum": "8b25d165f6359db57259d36067144f81",
     "grade": false,
     "grade_id": "cell-a0bb7a59ed8c5aef",
     "locked": true,
     "schema_version": 1,
     "solution": false
    }
   },
   "source": [
    "## Part 3: Calculating ice flow velocities (1 point)\n",
    "\n",
    "Your next task is to calculate the flow velocity for ice flowing in a channel using your `ice_velocity` function.\n",
    "\n",
    "For this part you should:\n",
    "\n",
    "- Calculate the velocity of ice in a channel as a non-Newtonian fluid with power-law exponents of $n$ = 2, 3, 4, and 5.\n",
    "    - As above, you can assume $a = 5 \\times 10^{-24}$ Pa<sup>-3</sup> s<sup>-1</sup>, $h = 1400$ m, and that the flow is symmetric about $y = 0$.\n",
    "    - Your array `y` should have a length of 201.\n",
    "- Store the output from each use of the `ice_velocity` function for each value of $n$ in one Python list called `ice_velocities`\n",
    "    - There are several ways you can do this.\n",
    "    One option would be to assign the output from the `ice_velocity` function for each velocity to different variables with names of your choosing (e.g., `velocity_1`, `velocity_2`, ...), and then put those values into a Python list."
   ]
  },
  {
   "cell_type": "code",
   "execution_count": null,
   "metadata": {
    "deletable": false,
    "nbgrader": {
     "checksum": "eb358c69816df14acd0009a7fb6b316d",
     "grade": false,
     "grade_id": "ice_velocities",
     "locked": false,
     "schema_version": 1,
     "solution": true
    }
   },
   "outputs": [],
   "source": [
    "# YOUR CODE HERE\n",
    "raise NotImplementedError()"
   ]
  },
  {
   "cell_type": "code",
   "execution_count": null,
   "metadata": {
    "deletable": false,
    "editable": false,
    "nbgrader": {
     "checksum": "5f7552b727b398d5cdf6642863e8a56a",
     "grade": true,
     "grade_id": "ice_velocities_tests",
     "locked": true,
     "points": 1,
     "schema_version": 1,
     "solution": false
    }
   },
   "outputs": [],
   "source": [
    "print('The length of ice_velocities should be 4. My ice_velocities length is {0}.'.format(len(ice_velocities)))"
   ]
  },
  {
   "cell_type": "markdown",
   "metadata": {
    "deletable": false,
    "editable": false,
    "nbgrader": {
     "checksum": "ba5d37d5a74e34cd7b9ab4580ce413d2",
     "grade": false,
     "grade_id": "cell-8fe062ca0d4f7d9a",
     "locked": true,
     "schema_version": 1,
     "solution": false
    }
   },
   "source": [
    "## Part 4: Plotting and comparing to observations (3 points)\n",
    "\n",
    "Distance from center line [m] | Velocity [m/a] | Velocity [m/s]\n",
    "----------------------------- | -------------- | --------------\n",
    "-660 | 12 | 3.80E-07\n",
    "-640 | 22 | 7.00E-07\n",
    "-570 | 42 | 1.33E-06\n",
    "-460 | 63 | 2.00E-06\n",
    "-220 | 74 | 2.35E-06\n",
    "40 | 76 | 2.41E-06\n",
    "180 | 74 | 2.35E-06\n",
    "260 | 72 | 2.28E-06\n",
    "500 | 51 | 1.62E-06\n",
    "\n",
    "*Table 1. Velocity measurements across the Saskatchewan glacier.*<br/><br/>\n",
    "\n",
    "The file [`data/sask_glacier_velo.txt`](data/sask_glacier_velo.txt) contains a series of surface velocities measured at various locations across the glacier (Table 1).\n",
    "Your task now is to load in this velocity data and plot it along with the calculated ice flow velocities.\n",
    "\n",
    "For this part you should:\n",
    "\n",
    "- Read the data file [`data/sask_glacier_velo.txt`](data/sask_glacier_velo.txt) into a variable called `data`, and separate it into separate NumPy arrays called `distance`, `velocity_ma`, and `velocity_ms`.\n",
    "- Plot the measured velocities along with the 4 predicted velocity profiles you have calculated **in meters per year (m/a)**.\n",
    "    - Be sure to label your axes and include a title.\n",
    "    - Also include text labels beside each velocity profile listing the power-law exponent or use a line legend.\n",
    "- Include a figure caption in the Markdown cell beneath the plot."
   ]
  },
  {
   "cell_type": "code",
   "execution_count": null,
   "metadata": {
    "deletable": false,
    "nbgrader": {
     "checksum": "b3c1a28fe5904a527236ff73f84338f5",
     "grade": true,
     "grade_id": "cell-09c425c039bdaf77",
     "locked": false,
     "points": 2,
     "schema_version": 1,
     "solution": true
    }
   },
   "outputs": [],
   "source": [
    "# YOUR CODE HERE\n",
    "raise NotImplementedError()"
   ]
  },
  {
   "cell_type": "markdown",
   "metadata": {
    "deletable": false,
    "nbgrader": {
     "checksum": "eae67ca6a90a330bccf6ef636a5b9161",
     "grade": true,
     "grade_id": "cell-9a4c37267f94a0d5",
     "locked": false,
     "points": 1,
     "schema_version": 1,
     "solution": true
    }
   },
   "source": [
    "YOUR ANSWER HERE"
   ]
  },
  {
   "cell_type": "markdown",
   "metadata": {
    "deletable": false,
    "editable": false,
    "nbgrader": {
     "checksum": "5d4333f277df27e13364775f2a0ee6e8",
     "grade": false,
     "grade_id": "cell-1a45f6aa8b83547a",
     "locked": true,
     "schema_version": 1,
     "solution": false
    }
   },
   "source": [
    "## Part 5: Questions for Problem 2 (1 point)\n",
    "\n",
    "1. What the most likely value for the power-law exponent $n$ for the Saskatchewan glacier?"
   ]
  },
  {
   "cell_type": "markdown",
   "metadata": {
    "deletable": false,
    "nbgrader": {
     "checksum": "647020fcde95f2772949e48d2aaed157",
     "grade": true,
     "grade_id": "cell-e0d47b4c9ff9441b",
     "locked": false,
     "points": 1,
     "schema_version": 1,
     "solution": true
    }
   },
   "source": [
    "YOUR ANSWER HERE"
   ]
  },
  {
   "cell_type": "markdown",
   "metadata": {
    "deletable": false,
    "editable": false,
    "nbgrader": {
     "checksum": "871ce0f8fb0b3566834c0cd8f600a10d",
     "grade": false,
     "grade_id": "cell-728758e35292a008",
     "locked": true,
     "schema_version": 1,
     "solution": false
    }
   },
   "source": [
    "# Problem 3 - Non-Newtonian ice flow down an inclined plane\n",
    "\n",
    "The [Athabasca glacier](https://goo.gl/maps/HggYfoKxEUQ2) (Figure 2) is another glacier in the Columbia Icefield, which will be the focus in this problem.\n",
    "\n",
    "![Athabasca glacier](https://upload.wikimedia.org/wikipedia/commons/4/41/Icefields_parkway.jpg)<br/>\n",
    "*Figure 2. Athabasca glacier.*\n",
    "\n",
    "## Part 1: Background and theory (0 points)\n",
    "\n",
    "First read through the [background and theory](https://introqg.github.io/qg/lessons/L5/exercise-5-theory.html#problem-2) for this problem before proceeding."
   ]
  },
  {
   "cell_type": "markdown",
   "metadata": {
    "deletable": false,
    "editable": false,
    "nbgrader": {
     "checksum": "e7851c5e261fc98e0176aacb3aef246f",
     "grade": false,
     "grade_id": "cell-5f2e375ae6d36ab9",
     "locked": true,
     "schema_version": 1,
     "solution": false
    }
   },
   "source": [
    "## Part 2: A gravitational force function?!? (1 point)\n",
    "\n",
    "In this problem we will be calculating the flow of ice down a slope resulting from a gravitational forces on the glacier.\n",
    "As above, we will consider both Newtonian and non-Newtonian fluids, this time using Equation 19 from the [background and theory for this problem](https://introqg.github.io/qg/lessons/L5/exercise-5-theory.html#problem-2), which is also shown below\n",
    "\n",
    "\\begin{equation}\n",
    "  u(z) = u_{\\mathrm{b}} + \\frac{a}{n + 1} \\gamma_{x}^{n} \\left[ h^{n + 1} - (h - z)^{n + 1} \\right]\n",
    "\\end{equation}\n",
    "\n",
    "where $u_{\\mathrm{b}}$ is the basal sliding velocity of the glacier, $a$ is a function of the viscosity and temperature (we will ignore temperature for now), $n$ is the power-law exponent, $\\gamma_{x}$ is the downslope component of the gravitational force, $h$ is the thickness of the ice perpendicular to the slope, and $z$ is the array of distances from the base of the glacier.\n",
    "Similarly to Problem 2, the value for the gravitational force $\\gamma_{x}$ is not known, but we can create a function to estimate its value.\n",
    "\n",
    "For this part you should:\n",
    "\n",
    "- Create a function called `gravity_force` that calculates the value of $\\gamma_{x}^{n}$ for a given value of the power-law exponent `n`.\n",
    "    - You can solve for $\\gamma_{x}^{n}$ by rearranging Equation 19 (see above) to solve for $\\gamma_{x}^{n}$ and using the condition that the maximum flow velocity $u = 9.1 \\times 10^{-7}$ m/s occurs at $z = h = 209$ m (see Table 2 in Part 4).\n",
    "    - Note that you should assume the basal sliding velocity $u_{\\mathrm{b}}$ is zero for the Newtonian case and equal to the observed sliding velocity $u_{\\mathrm{b}} = 1.30 \\times 10^{7}$ m/s for the non-Newtonian cases (see Table 2 in Part 4).\n",
    "    - Again, assume $a = 5 \\times 10^{-24}$ Pa<sup>-3</sup> s<sup>-1</sup> and $h = 209$ m.\n",
    "    - Your function parameters should include\n",
    "        - The power-law exponent `n`\n",
    "        - The ice thickness `h`\n",
    "        - The viscosity/temperature constant `a`\n",
    "        - The maximum ice flow velocity `u_max`\n",
    "        - The basal sliding velocity `u_basal`"
   ]
  },
  {
   "cell_type": "code",
   "execution_count": null,
   "metadata": {
    "deletable": false,
    "nbgrader": {
     "checksum": "3d156258224fb7ce24a6ad7c08c7b565",
     "grade": false,
     "grade_id": "gamma_x",
     "locked": false,
     "schema_version": 1,
     "solution": true
    }
   },
   "outputs": [],
   "source": [
    "def gravity_force(n, h=209.0, a=5.0e-24, u_max=9.1e-7, u_basal=1.3e-7):\n",
    "    \"\"\"Calculate gravitational force for ice flowing down a slope.\n",
    "    \n",
    "    Keyword arguments:\n",
    "    n -- viscous flow power-law expoenent\n",
    "    h -- ice thickness normal to slope (units: m; default: 209.0)\n",
    "    a -- viscosity/temperature constant (units: Pa^-3 s^-1; default: 5.0e-24)\n",
    "    u_max -- approximate channel velocity at z = h (units: m/s; default: 9.1e-7)\n",
    "    u_basal -- basal sliding velocity (units: m/s; default: 1.3e-7)\n",
    "    \"\"\"\n",
    "# YOUR CODE HERE\n",
    "raise NotImplementedError()"
   ]
  },
  {
   "cell_type": "code",
   "execution_count": null,
   "metadata": {
    "deletable": false,
    "editable": false,
    "nbgrader": {
     "checksum": "c212cf5b50f370ba001d03fc4b420db6",
     "grade": true,
     "grade_id": "gamma_x_tests",
     "locked": true,
     "points": 1,
     "schema_version": 1,
     "solution": false
    }
   },
   "outputs": [],
   "source": [
    "print('The gravity force for n=5 should be 11230.47517. My gravity force value is {0:.5f}'.format(gravity_force(5)))"
   ]
  },
  {
   "cell_type": "markdown",
   "metadata": {
    "deletable": false,
    "editable": false,
    "nbgrader": {
     "checksum": "92fa8d369a4d45b479f72e7b585fe6e6",
     "grade": false,
     "grade_id": "cell-83a717adf05cc85f",
     "locked": true,
     "schema_version": 1,
     "solution": false
    }
   },
   "source": [
    "## Part 3: An ice flow velocity function, again (1 point)\n",
    "\n",
    "Your next task is to create a function to calculate the velocity profile for ice flowing down a slope (Equation 19), shown in Part 2.\n",
    "\n",
    "For this part you should:\n",
    "\n",
    "- Create a function called `slope_velocity` that calculates the velocity of ice flowing down a slope using Equation 19 from the [background and theory](https://introqg.github.io/qg/lessons/L5/exercise-5-theory.html#problem-2), which was shown in the previous part.\n",
    "    - Your function should use the `gravity_force` function created in the previous part.\n",
    "    - As in the previous part you should assume $a = 5 \\times 10^{-24}$ Pa<sup>-3</sup> s<sup>-1</sup>, $h = 209$ m, and the maximum flow velocity $u_{\\mathrm{max}} = 9.1 \\times 10^{-7}$ m/s.\n",
    "    - Also you should again assume the basal sliding velocity $u_{\\mathrm{b}}$ is zero for the Newtonian case and equal to the observed sliding velocity $u_{\\mathrm{b}} = 1.30 \\times 10^{7}$ m/s for the non-Newtonian cases (see Table 2 in Part 4).\n",
    "    - Your function parameters should include\n",
    "        - The power-law exponent `n`\n",
    "        - The channel thickness array `z`\n",
    "        - The ice thickness `h`\n",
    "        - The viscosity/temperature constant `a`\n",
    "        - The maximum ice flow velocity `u_max`\n",
    "        - The basal sliding velocity `u_basal`"
   ]
  },
  {
   "cell_type": "code",
   "execution_count": null,
   "metadata": {
    "deletable": false,
    "nbgrader": {
     "checksum": "183315345440552b52e331665a9ee1b4",
     "grade": false,
     "grade_id": "slope_velocity",
     "locked": false,
     "schema_version": 1,
     "solution": true
    }
   },
   "outputs": [],
   "source": [
    "def slope_velocity(n, z, h=209.0, a=5.0e-24, u_max=9.1e-7, u_basal=1.3e-7):\n",
    "    \"\"\"Calculate velocity profile of ice flowing downslope.\n",
    "    \n",
    "    Keyword arguments:\n",
    "    n -- viscous flow power-law expoenent\n",
    "    z -- array of distances from the channel base (units: m)\n",
    "    h -- ice thickness normal to slope (units: m; default: 209.0)\n",
    "    a -- viscosity/temperature constant (units: Pa^-3 s^-1; default: 5.0e-24)\n",
    "    u_max -- Approximate maximum flow velocity at z = h (units: m/s; default: 9.1e-7)\n",
    "    u_basal -- Basal sliding velocity (units: m/s; default: 1.3e-7)\n",
    "    \"\"\"\n",
    "# YOUR CODE HERE\n",
    "raise NotImplementedError()"
   ]
  },
  {
   "cell_type": "code",
   "execution_count": null,
   "metadata": {
    "deletable": false,
    "editable": false,
    "nbgrader": {
     "checksum": "42373a5cdf25c3f9992818f97243bfa9",
     "grade": true,
     "grade_id": "slope_velocity_tests",
     "locked": true,
     "points": 1,
     "schema_version": 1,
     "solution": false
    }
   },
   "outputs": [],
   "source": [
    "velocity_test = slope_velocity(3, np.array([100.0]))\n",
    "print('The velocity at 100 m for n=3 should be 8.52295e-07. My gravity force value is {0:.5e}'.format(velocity_test[0]))"
   ]
  },
  {
   "cell_type": "markdown",
   "metadata": {
    "deletable": false,
    "editable": false,
    "nbgrader": {
     "checksum": "067a3aa2d4ae537c4d85e47828cf5e74",
     "grade": false,
     "grade_id": "cell-14c5ecef8ed3b247",
     "locked": true,
     "schema_version": 1,
     "solution": false
    }
   },
   "source": [
    "## Part 4: Calculating ice flow velocities, again (1 point)\n",
    "\n",
    "Your next task is to calculate the flow velocity for ice flowing down a slope using your `slope_velocity` function.\n",
    "\n",
    "For this part you should:\n",
    "\n",
    "- Calculate the velocity of ice flowing down a slope as both a Newtonian and a non-Newtonian fluid with power-law exponents of $n$ = 2, 3, 4, and 5.\n",
    "    - As in the previous part you should assume $a = 5 \\times 10^{-24}$ Pa<sup>-3</sup> s<sup>-1</sup>, $h = 209$ m, and the maximum flow velocity $u_{\\mathrm{max}} = 9.1 \\times 10^{-7}$ m/s.\n",
    "    - Also you should again assume the basal sliding velocity $u_{\\mathrm{b}}$ is zero for the Newtonian case and equal to the observed sliding velocity $u_{\\mathrm{b}} = 1.30 \\times 10^{7}$ m/s for the non-Newtonian cases (see Table 2 in Part 4).\n",
    "    - Your array `z` should have a length of 201.\n",
    "- Store the output from each use of the `slope_velocity` function for each value of $n$ in one Python list called `slope_velocities`\n",
    "    - There are several ways you can do this.\n",
    "    One option would be to assign the output from the `slope_velocity` function for each velocity to different variables with names of your choosing (e.g., `velocity_1`, `velocity_2`, ...), and then put those values into a Python list."
   ]
  },
  {
   "cell_type": "code",
   "execution_count": null,
   "metadata": {
    "deletable": false,
    "nbgrader": {
     "checksum": "bfebc0548a01ba295c1a20f8f0fd69b4",
     "grade": false,
     "grade_id": "slope_velocities",
     "locked": false,
     "schema_version": 1,
     "solution": true
    }
   },
   "outputs": [],
   "source": [
    "# YOUR CODE HERE\n",
    "raise NotImplementedError()"
   ]
  },
  {
   "cell_type": "code",
   "execution_count": null,
   "metadata": {
    "deletable": false,
    "editable": false,
    "nbgrader": {
     "checksum": "810e4dd4d3111f570837c6e4039dec77",
     "grade": true,
     "grade_id": "slope_velocities_tests",
     "locked": true,
     "points": 1,
     "schema_version": 1,
     "solution": false
    }
   },
   "outputs": [],
   "source": [
    "print('The length of slope_velocities should be 5. My slope_velocities length is {0}.'.format(len(slope_velocities)))"
   ]
  },
  {
   "cell_type": "markdown",
   "metadata": {
    "deletable": false,
    "editable": false,
    "nbgrader": {
     "checksum": "e00c7e66ea02a17c06961a0342e4dc3f",
     "grade": false,
     "grade_id": "cell-3dc006a66003d55f",
     "locked": true,
     "schema_version": 1,
     "solution": false
    }
   },
   "source": [
    "## Part 5: Plotting and comparing to observations (3 points)\n",
    "\n",
    "Depth from surface [m] | Height from base z [m] | Horizontal velocity [m/a] | Horizontal velocity [m/s]\n",
    "---------------------- | ---------------------- | ------------------------- | -------------------------\n",
    "0 | 209 | 28.6 | 9.10E-07\n",
    "15 | 195 | 28.5 | 9.00E-07\n",
    "30 | 180 | 28.5 | 9.00E-07\n",
    "45 | 165 | 28.4 | 9.00E-07\n",
    "60 | 150 | 28.2 | 8.90E-07\n",
    "75 | 135 | 28.0 | 8.90E-07\n",
    "90 | 120 | 27.7 | 8.80E-07\n",
    "105 | 105 | 27.2 | 8.60E-07\n",
    "120 | 90 | 26.5 | 8.40E-07\n",
    "135 | 75 | 25.5 | 8.10E-07\n",
    "150 | 60 | 24.0 | 7.60E-07\n",
    "165 | 45 | 21.5 | 6.80E-07\n",
    "180 | 30 | 17.5 | 5.50E-07\n",
    "195 | 15 | 10 | 3.20E-07\n",
    "209 | 0 | 4 | 1.30E-07\n",
    "\n",
    "*Table 2. Velocities measured from a vertical profile through Athabasca glacier.*\n",
    "\n",
    "A vertical velocity profile for the Athabasca glacier has been measured and the measurements are in the file [`data/atha_glacier_velo.txt`](data/atha_glacier_velo.txt) (Table 2).\n",
    "Your task now is to load in this velocity data and plot it along with the calculated ice flow velocities.\n",
    "\n",
    "For this part you should:\n",
    "\n",
    "- Read the data file [`data/atha_glacier_velo.txt`](data/atha_glacier_velo.txt) into a variable called `data`, and separate it into separate NumPy arrays called `depth`, `height`, `velocity_ma`, and `velocity_ms`.\n",
    "- Plot the measured velocities along with the 5 predicted velocity profiles you have calculated **in meters per year (m/a)**.\n",
    "    - Be sure to label your axes and include a title.\n",
    "    - Also include text labels beside each velocity profile listing the power-law exponent or use a line legend.\n",
    "- Include a figure caption in the Markdown cell beneath the plot."
   ]
  },
  {
   "cell_type": "code",
   "execution_count": null,
   "metadata": {
    "deletable": false,
    "nbgrader": {
     "checksum": "60872926339f13b880e5a7f5a878e351",
     "grade": true,
     "grade_id": "plot_slope_velocities",
     "locked": false,
     "points": 2,
     "schema_version": 1,
     "solution": true
    }
   },
   "outputs": [],
   "source": [
    "# YOUR CODE HERE\n",
    "raise NotImplementedError()"
   ]
  },
  {
   "cell_type": "markdown",
   "metadata": {
    "deletable": false,
    "nbgrader": {
     "checksum": "96a945881ab73038c9a1cb5dbae44d65",
     "grade": true,
     "grade_id": "slope_velocities_caption",
     "locked": false,
     "points": 1,
     "schema_version": 1,
     "solution": true
    }
   },
   "source": [
    "YOUR ANSWER HERE"
   ]
  },
  {
   "cell_type": "markdown",
   "metadata": {
    "deletable": false,
    "editable": false,
    "nbgrader": {
     "checksum": "f9924e40dd7a13df431dd42236b1c728",
     "grade": false,
     "grade_id": "cell-c3fcafc16cc7d9df",
     "locked": true,
     "schema_version": 1,
     "solution": false
    }
   },
   "source": [
    "## Part 6: Questions for Problem 3 (1 point)\n",
    "\n",
    "1. What is the most likely value for the power-law exponent $n$ for the Athabasca glacier?"
   ]
  },
  {
   "cell_type": "markdown",
   "metadata": {
    "deletable": false,
    "nbgrader": {
     "checksum": "b3ec95dc93f08cec587fab221eda875d",
     "grade": true,
     "grade_id": "problem_3_questions",
     "locked": false,
     "points": 1,
     "schema_version": 1,
     "solution": true
    }
   },
   "source": [
    "YOUR ANSWER HERE"
   ]
  }
 ],
 "metadata": {
  "kernelspec": {
   "display_name": "Python 3",
   "language": "python",
   "name": "python3"
  },
  "language_info": {
   "codemirror_mode": {
    "name": "ipython",
    "version": 3
   },
   "file_extension": ".py",
   "mimetype": "text/x-python",
   "name": "python",
   "nbconvert_exporter": "python",
   "pygments_lexer": "ipython3",
   "version": "3.6.4"
  }
 },
 "nbformat": 4,
 "nbformat_minor": 2
}
